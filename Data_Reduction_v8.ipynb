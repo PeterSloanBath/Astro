{
 "cells": [
  {
   "cell_type": "markdown",
   "id": "ce73a6fa",
   "metadata": {},
   "source": [
    "# Version 3\n",
    "\n",
    "- Now has a switch for plotting all the images, or not.\n",
    "\n",
    "- Does not read in the master files if they already exist. \n",
    "\n",
    "- The histograms are now better and have 50 bins spread over a more useful range. \n",
    "\n",
    "- Only divides by 16 for the ASI1600MM Camera. \n",
    "\n",
    "- Better file handling, although it does mean the files have to be in the right place. \n",
    "\n",
    "- 2//12/2023 PXS\n",
    "\n",
    "# Version 4\n",
    "\n",
    "- Now actually has the divide by 16 for only the 1600MM camera as V3 didn't have it for some odd reason\n",
    "\n",
    "- Now also update scale to the new binned data, so at least for the binned image the scale etc. are correct for that image.\n",
    "\n",
    "# Version 5\n",
    "\n",
    "- Asume a certain file structure. Get the colours and then run through all the images to make reduced images. Will cut out much faffing about. TO DO\n",
    "\n",
    "# Version 6\n",
    "\n",
    "- Seciton at end to make a saturation mask. DONE\n",
    "\n",
    "# Version 7\n",
    "\n",
    "- A bust did not use\n",
    "\n",
    "# Version 8\n",
    "\n",
    "- Save redcued images to a subfolder and the saturated images also to a subfolder. DONE\n",
    "- Write file path into the header of the raw images. DONE"
   ]
  },
  {
   "cell_type": "markdown",
   "id": "444e689c",
   "metadata": {},
   "source": [
    "Here I'll make my fist attempt to open and look at my own data. using the tutorial from [here](https://learn.astropy.org/tutorials/FITS-images.html)"
   ]
  },
  {
   "cell_type": "code",
   "execution_count": 1,
   "id": "5ba12263",
   "metadata": {},
   "outputs": [],
   "source": [
    "import numpy as np\n",
    "\n",
    "# Set up matplotlib\n",
    "import matplotlib.pyplot as plt\n",
    "%matplotlib inline\n",
    "\n",
    "import pandas as pd\n",
    "\n",
    "from astropy.io import fits\n",
    "from astropy.utils.data import download_file\n",
    "\n",
    "import os\n",
    "import glob\n",
    "import time\n",
    "from matplotlib.colors import LogNorm\n",
    "from IPython import display\n",
    "from IPython.display import clear_output\n",
    "import random\n",
    "\n",
    "from astropy.nddata import block_reduce\n",
    "\n",
    "from My_Functions_v3 import create_or_empty_folder\n",
    "from My_Functions_v3 import update_fits_header\n",
    "\n",
    "plt.rcParams.update({'font.size':15})"
   ]
  },
  {
   "cell_type": "code",
   "execution_count": 2,
   "id": "962ca0ad",
   "metadata": {},
   "outputs": [],
   "source": [
    "plotting = True\n",
    "plotting = False"
   ]
  },
  {
   "cell_type": "markdown",
   "id": "a1671dfb",
   "metadata": {},
   "source": [
    "Next want to grab all the file names in a sub-folder. I'm using glob to do it as it saves me typing in the file names by hand."
   ]
  },
  {
   "cell_type": "code",
   "execution_count": 3,
   "id": "30fe57f0",
   "metadata": {},
   "outputs": [],
   "source": [
    "file_object = \"HeartNebula\"\n",
    "file_night  = \"2023_11_30_apo\""
   ]
  },
  {
   "cell_type": "code",
   "execution_count": 3,
   "id": "316b4ed2",
   "metadata": {},
   "outputs": [],
   "source": [
    "file_object  = \"tyc_3023-1974-1\"\n",
    "\n",
    "file_night  = \"2023_04_02\"\n",
    "#file_night  = \"2023_04_03\""
   ]
  },
  {
   "cell_type": "code",
   "execution_count": 121,
   "id": "814859a6",
   "metadata": {},
   "outputs": [],
   "source": [
    "file_object = \"RZ_Cep\"\n",
    "file_night  = \"2022_12_07\"\n",
    "file_night  = \"2023_01_23\"\n",
    "file_night  = \"2023_02_23\"\n",
    "file_night  = \"2023_11_10\"\n",
    "file_night  = \"2024_01_07\"\n",
    "file_night  = \"2024_01_18\""
   ]
  },
  {
   "cell_type": "code",
   "execution_count": 249,
   "id": "4ddf90ad",
   "metadata": {},
   "outputs": [],
   "source": [
    "file_object = \"RZ_Cas\"\n",
    "file_night  = \"2023_03_02\"\n",
    "file_night  = \"2023_04_06\"\n",
    "file_night  = \"2023_10_14\"\n",
    "file_night  = \"2023_11_30\""
   ]
  },
  {
   "cell_type": "code",
   "execution_count": 250,
   "id": "0b3378f4",
   "metadata": {},
   "outputs": [],
   "source": [
    "binned = True #2x2\n",
    "Single = True  #instead of doubles"
   ]
  },
  {
   "cell_type": "code",
   "execution_count": 251,
   "id": "eb2ee491",
   "metadata": {},
   "outputs": [],
   "source": [
    "colour = \"Luminance\"\n",
    "colour = \"Red\"\n",
    "colour = \"Green\"\n",
    "colour = \"Blue\"\n",
    "#colour = \"OIII\"\n",
    "#colour = \"Ha\"\n",
    "#colour = \"SII\""
   ]
  },
  {
   "cell_type": "code",
   "execution_count": 252,
   "id": "a1115e7d",
   "metadata": {},
   "outputs": [],
   "source": [
    "filepath     = \"../../BPO_Data/\"+file_object+\"/\"+file_night+\"/Light/\"+colour+\"/\"\n",
    "flatfilepath = \"../../BPO_Data/\"+file_object+\"/\"+file_night+\"/Flat/\"+colour+\"/master_flat.fits\"\n",
    "barkfilepath = \"../../BPO_Data/\"+file_object+\"/\"+file_night+\"/Dark/master_dark_per_sec.fits\"\n",
    "biasfilepath = \"../../BPO_Data/\"+file_object+\"/\"+file_night+\"/Bias/master_bias.fits\"\n",
    "\n",
    "main_star = file_object"
   ]
  },
  {
   "cell_type": "code",
   "execution_count": 253,
   "id": "9d781d36",
   "metadata": {},
   "outputs": [
    {
     "name": "stdout",
     "output_type": "stream",
     "text": [
      "../../BPO_Data/RZ_Cas/2023_11_30/Light/Blue\\RZ_Cas_Light_Blue_0.600_secs_001.fits\n",
      "../../BPO_Data/RZ_Cas/2023_11_30/Light/Blue\\RZ_Cas_Light_Blue_0.600_secs_002.fits\n",
      "../../BPO_Data/RZ_Cas/2023_11_30/Light/Blue\\RZ_Cas_Light_Blue_0.600_secs_003.fits\n",
      "../../BPO_Data/RZ_Cas/2023_11_30/Light/Blue\\RZ_Cas_Light_Blue_0.600_secs_004.fits\n",
      "../../BPO_Data/RZ_Cas/2023_11_30/Light/Blue\\RZ_Cas_Light_Blue_0.600_secs_005.fits\n",
      "../../BPO_Data/RZ_Cas/2023_11_30/Light/Blue\\RZ_Cas_Light_Blue_0.600_secs_006.fits\n",
      "../../BPO_Data/RZ_Cas/2023_11_30/Light/Blue\\RZ_Cas_Light_Blue_0.600_secs_007.fits\n",
      "../../BPO_Data/RZ_Cas/2023_11_30/Light/Blue\\RZ_Cas_Light_Blue_0.600_secs_008.fits\n",
      "../../BPO_Data/RZ_Cas/2023_11_30/Light/Blue\\RZ_Cas_Light_Blue_0.600_secs_009.fits\n",
      "../../BPO_Data/RZ_Cas/2023_11_30/Light/Blue\\RZ_Cas_Light_Blue_0.600_secs_010.fits\n",
      "../../BPO_Data/RZ_Cas/2023_11_30/Light/Blue\\RZ_Cas_Light_Blue_0.600_secs_011.fits\n",
      "../../BPO_Data/RZ_Cas/2023_11_30/Light/Blue\\RZ_Cas_Light_Blue_0.600_secs_012.fits\n",
      "../../BPO_Data/RZ_Cas/2023_11_30/Light/Blue\\RZ_Cas_Light_Blue_0.600_secs_013.fits\n",
      "../../BPO_Data/RZ_Cas/2023_11_30/Light/Blue\\RZ_Cas_Light_Blue_0.600_secs_014.fits\n",
      "../../BPO_Data/RZ_Cas/2023_11_30/Light/Blue\\RZ_Cas_Light_Blue_0.600_secs_015.fits\n",
      "../../BPO_Data/RZ_Cas/2023_11_30/Light/Blue\\RZ_Cas_Light_Blue_0.600_secs_016.fits\n",
      "../../BPO_Data/RZ_Cas/2023_11_30/Light/Blue\\RZ_Cas_Light_Blue_0.600_secs_017.fits\n",
      "../../BPO_Data/RZ_Cas/2023_11_30/Light/Blue\\RZ_Cas_Light_Blue_0.600_secs_018.fits\n",
      "../../BPO_Data/RZ_Cas/2023_11_30/Light/Blue\\RZ_Cas_Light_Blue_0.600_secs_019.fits\n",
      "../../BPO_Data/RZ_Cas/2023_11_30/Light/Blue\\RZ_Cas_Light_Blue_0.600_secs_020.fits\n",
      "../../BPO_Data/RZ_Cas/2023_11_30/Light/Blue\\RZ_Cas_Light_Blue_0.600_secs_021.fits\n",
      "../../BPO_Data/RZ_Cas/2023_11_30/Light/Blue\\RZ_Cas_Light_Blue_0.600_secs_022.fits\n",
      "../../BPO_Data/RZ_Cas/2023_11_30/Light/Blue\\RZ_Cas_Light_Blue_0.600_secs_023.fits\n",
      "../../BPO_Data/RZ_Cas/2023_11_30/Light/Blue\\RZ_Cas_Light_Blue_0.600_secs_024.fits\n",
      "../../BPO_Data/RZ_Cas/2023_11_30/Light/Blue\\RZ_Cas_Light_Blue_0.600_secs_025.fits\n",
      "../../BPO_Data/RZ_Cas/2023_11_30/Light/Blue\\RZ_Cas_Light_Blue_0.600_secs_026.fits\n",
      "../../BPO_Data/RZ_Cas/2023_11_30/Light/Blue\\RZ_Cas_Light_Blue_0.600_secs_027.fits\n",
      "../../BPO_Data/RZ_Cas/2023_11_30/Light/Blue\\RZ_Cas_Light_Blue_0.600_secs_028.fits\n",
      "../../BPO_Data/RZ_Cas/2023_11_30/Light/Blue\\RZ_Cas_Light_Blue_0.600_secs_029.fits\n",
      "../../BPO_Data/RZ_Cas/2023_11_30/Light/Blue\\RZ_Cas_Light_Blue_0.600_secs_030.fits\n",
      "../../BPO_Data/RZ_Cas/2023_11_30/Light/Blue\\RZ_Cas_Light_Blue_0.600_secs_031.fits\n",
      "../../BPO_Data/RZ_Cas/2023_11_30/Light/Blue\\RZ_Cas_Light_Blue_0.600_secs_032.fits\n",
      "../../BPO_Data/RZ_Cas/2023_11_30/Light/Blue\\RZ_Cas_Light_Blue_0.600_secs_033.fits\n",
      "../../BPO_Data/RZ_Cas/2023_11_30/Light/Blue\\RZ_Cas_Light_Blue_0.600_secs_034.fits\n",
      "../../BPO_Data/RZ_Cas/2023_11_30/Light/Blue\\RZ_Cas_Light_Blue_0.600_secs_035.fits\n",
      "../../BPO_Data/RZ_Cas/2023_11_30/Light/Blue\\RZ_Cas_Light_Blue_0.600_secs_036.fits\n",
      "../../BPO_Data/RZ_Cas/2023_11_30/Light/Blue\\RZ_Cas_Light_Blue_0.600_secs_037.fits\n",
      "../../BPO_Data/RZ_Cas/2023_11_30/Light/Blue\\RZ_Cas_Light_Blue_0.600_secs_038.fits\n",
      "../../BPO_Data/RZ_Cas/2023_11_30/Light/Blue\\RZ_Cas_Light_Blue_0.600_secs_039.fits\n",
      "../../BPO_Data/RZ_Cas/2023_11_30/Light/Blue\\RZ_Cas_Light_Blue_0.600_secs_040.fits\n",
      "../../BPO_Data/RZ_Cas/2023_11_30/Light/Blue\\RZ_Cas_Light_Blue_0.600_secs_041.fits\n",
      "../../BPO_Data/RZ_Cas/2023_11_30/Light/Blue\\RZ_Cas_Light_Blue_0.600_secs_042.fits\n",
      "../../BPO_Data/RZ_Cas/2023_11_30/Light/Blue\\RZ_Cas_Light_Blue_0.600_secs_043.fits\n",
      "../../BPO_Data/RZ_Cas/2023_11_30/Light/Blue\\RZ_Cas_Light_Blue_0.600_secs_044.fits\n",
      "../../BPO_Data/RZ_Cas/2023_11_30/Light/Blue\\RZ_Cas_Light_Blue_0.600_secs_045.fits\n",
      "../../BPO_Data/RZ_Cas/2023_11_30/Light/Blue\\RZ_Cas_Light_Blue_0.600_secs_046.fits\n",
      "../../BPO_Data/RZ_Cas/2023_11_30/Light/Blue\\RZ_Cas_Light_Blue_0.600_secs_047.fits\n",
      "../../BPO_Data/RZ_Cas/2023_11_30/Light/Blue\\RZ_Cas_Light_Blue_0.600_secs_048.fits\n",
      "../../BPO_Data/RZ_Cas/2023_11_30/Light/Blue\\RZ_Cas_Light_Blue_0.600_secs_049.fits\n",
      "../../BPO_Data/RZ_Cas/2023_11_30/Light/Blue\\RZ_Cas_Light_Blue_0.600_secs_050.fits\n"
     ]
    }
   ],
   "source": [
    "image_list = []\n",
    "\n",
    "for file in glob.glob(filepath+\"*.fits\"): #The 'D' stops it picking up past master_frames\n",
    "        image_list.append(file)\n",
    "    \n",
    "print(\"\\n\".join(image_list))\n"
   ]
  },
  {
   "cell_type": "code",
   "execution_count": 254,
   "id": "559e5e51",
   "metadata": {},
   "outputs": [],
   "source": [
    "masterbias_image = fits.getdata(biasfilepath)"
   ]
  },
  {
   "cell_type": "code",
   "execution_count": 255,
   "id": "5390a933",
   "metadata": {},
   "outputs": [],
   "source": [
    "if plotting == True:\n",
    "    plt.figure(figsize=(15,6))\n",
    "\n",
    "    N_std = 1.5\n",
    "\n",
    "    print('Min:', np.min(masterbias_image) )\n",
    "    print('Max:', np.max(masterbias_image)  )    \n",
    "    print('Mean:', np.mean(masterbias_image)  )\n",
    "    print('Median', np.median(masterbias_image)  )\n",
    "    print('Stdev:', np.std(masterbias_image)  )\n",
    "\n",
    "    Vmin = np.median(masterbias_image) - N_std*np.std(masterbias_image)\n",
    "    Vmax = np.median(masterbias_image) + N_std*np.std(masterbias_image)\n",
    "\n",
    "    plt.subplot(1,2,1)\n",
    "    plt.imshow(masterbias_image, cmap='gray', \n",
    "                   vmin=Vmin , vmax=Vmax) \n",
    "    plt.title(\"Master Bias\")\n",
    "    plt.colorbar()\n",
    "\n",
    "\n",
    "    plt.subplot(1,2,2)\n",
    "    plt.hist(masterbias_image.flatten(),bins=50)\n",
    "    plt.yscale('log')\n",
    "\n",
    "    plt.show()"
   ]
  },
  {
   "cell_type": "code",
   "execution_count": 256,
   "id": "bddc20f7",
   "metadata": {},
   "outputs": [],
   "source": [
    "masterdark_image = fits.getdata(barkfilepath)"
   ]
  },
  {
   "cell_type": "code",
   "execution_count": 257,
   "id": "b581870d",
   "metadata": {},
   "outputs": [],
   "source": [
    "if plotting == True:\n",
    "    plt.figure(figsize=(15,6))\n",
    "\n",
    "    N_std = 1.5\n",
    "\n",
    "    print('Min:', np.min(masterdark_image) )\n",
    "    print('Max:', np.max(masterdark_image)  )    \n",
    "    print('Mean:', np.mean(masterdark_image)  )\n",
    "    print('Median', np.median(masterdark_image)  )\n",
    "    print('Stdev:', np.std(masterdark_image)  )\n",
    "\n",
    "    Vmin = np.median(masterdark_image) - N_std*np.std(masterdark_image)\n",
    "    Vmax = np.median(masterdark_image) + N_std*np.std(masterdark_image)\n",
    "\n",
    "    plt.subplot(1,2,1)\n",
    "    plt.imshow(masterdark_image, cmap='gray', \n",
    "                   vmin= Vmin, vmax=Vmax) \n",
    "    plt.title(\"Master Dark\")\n",
    "    plt.colorbar()\n",
    "\n",
    "\n",
    "    plt.subplot(1,2,2)\n",
    "    plt.hist(masterdark_image.flatten(),bins=50, range=(Vmin,Vmax))\n",
    "    plt.yscale('log')\n",
    "\n",
    "    plt.show()"
   ]
  },
  {
   "cell_type": "code",
   "execution_count": 258,
   "id": "e20ab6cc",
   "metadata": {},
   "outputs": [],
   "source": [
    "master_flat_image = fits.getdata(flatfilepath)"
   ]
  },
  {
   "cell_type": "code",
   "execution_count": 259,
   "id": "4d1b977e",
   "metadata": {},
   "outputs": [],
   "source": [
    "if plotting == True:\n",
    "    plt.figure(figsize=(15,6))\n",
    "\n",
    "    N_std = 3.5\n",
    "\n",
    "    print('Min:', np.min(master_flat_image) )\n",
    "    print('Max:', np.max(master_flat_image)  )    \n",
    "    print('Mean:', np.mean(master_flat_image)  )\n",
    "    print('Median', np.median(master_flat_image)  )\n",
    "    print('Stdev:', np.std(master_flat_image)  )\n",
    "\n",
    "    Vmin = np.median(master_flat_image) - N_std*np.std(master_flat_image)\n",
    "    Vmax = Vmin + 2*N_std*np.std(master_flat_image)\n",
    "    plt.subplot(1,2,1)\n",
    "    plt.imshow(master_flat_image, cmap='gray', \n",
    "                   vmin=Vmin, vmax=Vmax) \n",
    "    plt.title(\"Master Flat\")\n",
    "    plt.colorbar()\n",
    "\n",
    "\n",
    "    plt.subplot(1,2,2)\n",
    "    plt.hist(master_flat_image.flatten(),bins=50,range=(Vmin,Vmax))\n",
    "    plt.yscale('log')\n",
    "\n",
    "    plt.show()"
   ]
  },
  {
   "cell_type": "markdown",
   "id": "b2aa620a",
   "metadata": {},
   "source": [
    "See if a subfolder exists, and if it does empty it!"
   ]
  },
  {
   "cell_type": "code",
   "execution_count": 260,
   "id": "27744fde",
   "metadata": {},
   "outputs": [
    {
     "name": "stdout",
     "output_type": "stream",
     "text": [
      "Folder '../../BPO_Data/RZ_Cas/2023_11_30/Light/Blue/reduced_images/' has been created.\n"
     ]
    }
   ],
   "source": [
    "create_or_empty_folder(filepath+\"reduced_images/\")"
   ]
  },
  {
   "cell_type": "code",
   "execution_count": 261,
   "id": "66cf8266",
   "metadata": {},
   "outputs": [
    {
     "name": "stdout",
     "output_type": "stream",
     "text": [
      "50/50\n",
      "../../BPO_Data/RZ_Cas/2023_11_30/Light/Blue\\RZ_Cas_Light_Blue_0.600_secs_050.fits\n"
     ]
    }
   ],
   "source": [
    "i=1\n",
    "for file in image_list:\n",
    "    clear_output(wait=True)\n",
    "    print(str(i) + \"/\" + str(len(image_list)))\n",
    "    print(file)\n",
    "    #clear_output(wait=True)\n",
    "    #plt.figure(figsize=(15,6))\n",
    "    \n",
    "    hdul = fits.open(file)\n",
    "    \n",
    "    reduced_image = []\n",
    "    raw_image = []\n",
    "    raw_image = hdul[0].data \n",
    "    \n",
    "    \n",
    "    image_hdr = []\n",
    "    image_hdr = hdul[0].header\n",
    "    \n",
    "    # remove factor of 16 only for our 12 bit camera\n",
    "    if image_hdr['INSTRUME'] == 'ZWO CCD ASI1600MM Pro':\n",
    "        raw_image = raw_image / 16\n",
    "        \n",
    "    exposure = image_hdr[\"EXPTIME \"]\n",
    "    #print(exposure)\n",
    "    \n",
    "    reduced_image = (raw_image - masterdark_image*exposure - masterbias_image) / master_flat_image\n",
    "    # get to flux.\n",
    "    reduced_image = reduced_image / exposure\n",
    "    if Single == 1:\n",
    "        reduced_image = reduced_image.astype('float32')\n",
    "    \n",
    "    if binned == 1:\n",
    "        reduced_image = block_reduce(reduced_image, block_size=(2, 2), func=np.sum)\n",
    "        \n",
    "    file_name = os.path.basename(file)\n",
    "    new_file_name = filepath + \"reduced_images/\" + file_name.replace('.fits', '_reduced.fits')\n",
    "\n",
    "    hdul[0] = fits.PrimaryHDU(reduced_image,image_hdr)\n",
    "    hdul[0].header['REDTIME'] = 1\n",
    "    if binned == 1:\n",
    "        hdul[0].header['XBINNING'] = 2\n",
    "        hdul[0].header['YBINNING'] = 2\n",
    "        hdul[0].header['SCALE'] = 2 *  hdul[0].header['SCALE']\n",
    "\n",
    "    hdul.writeto(new_file_name, overwrite=True)\n",
    "    \n",
    "    # Store the file name in the orignal fits file\n",
    "    update_fits_header(file, 'RedImage', new_file_name, comment=\"See Data_Reduction_v8t\")\n",
    "    \n",
    "    \n",
    "    i=i+1\n",
    "    time.sleep(0.1) \n",
    "    \n",
    "    #time.sleep(1) #pause in secs. Make bigger if you need.    "
   ]
  },
  {
   "cell_type": "markdown",
   "id": "3e05e60f",
   "metadata": {},
   "source": [
    "Now we'll make another file that has an image of if the pixels were saturated or not."
   ]
  },
  {
   "cell_type": "code",
   "execution_count": 262,
   "id": "67e8a037",
   "metadata": {},
   "outputs": [
    {
     "name": "stdout",
     "output_type": "stream",
     "text": [
      "../../BPO_Data/RZ_Cas/2023_11_30/Light/Blue/reduced_images/RZ_Cas_Light_Blue_0.600_secs_001_reduced.fits\n",
      "../../BPO_Data/RZ_Cas/2023_11_30/Light/Blue/reduced_images/RZ_Cas_Light_Blue_0.600_secs_002_reduced.fits\n",
      "../../BPO_Data/RZ_Cas/2023_11_30/Light/Blue/reduced_images/RZ_Cas_Light_Blue_0.600_secs_003_reduced.fits\n",
      "../../BPO_Data/RZ_Cas/2023_11_30/Light/Blue/reduced_images/RZ_Cas_Light_Blue_0.600_secs_004_reduced.fits\n",
      "../../BPO_Data/RZ_Cas/2023_11_30/Light/Blue/reduced_images/RZ_Cas_Light_Blue_0.600_secs_005_reduced.fits\n",
      "../../BPO_Data/RZ_Cas/2023_11_30/Light/Blue/reduced_images/RZ_Cas_Light_Blue_0.600_secs_006_reduced.fits\n",
      "../../BPO_Data/RZ_Cas/2023_11_30/Light/Blue/reduced_images/RZ_Cas_Light_Blue_0.600_secs_007_reduced.fits\n",
      "../../BPO_Data/RZ_Cas/2023_11_30/Light/Blue/reduced_images/RZ_Cas_Light_Blue_0.600_secs_008_reduced.fits\n",
      "../../BPO_Data/RZ_Cas/2023_11_30/Light/Blue/reduced_images/RZ_Cas_Light_Blue_0.600_secs_009_reduced.fits\n",
      "../../BPO_Data/RZ_Cas/2023_11_30/Light/Blue/reduced_images/RZ_Cas_Light_Blue_0.600_secs_010_reduced.fits\n",
      "../../BPO_Data/RZ_Cas/2023_11_30/Light/Blue/reduced_images/RZ_Cas_Light_Blue_0.600_secs_011_reduced.fits\n",
      "../../BPO_Data/RZ_Cas/2023_11_30/Light/Blue/reduced_images/RZ_Cas_Light_Blue_0.600_secs_012_reduced.fits\n",
      "../../BPO_Data/RZ_Cas/2023_11_30/Light/Blue/reduced_images/RZ_Cas_Light_Blue_0.600_secs_013_reduced.fits\n",
      "../../BPO_Data/RZ_Cas/2023_11_30/Light/Blue/reduced_images/RZ_Cas_Light_Blue_0.600_secs_014_reduced.fits\n",
      "../../BPO_Data/RZ_Cas/2023_11_30/Light/Blue/reduced_images/RZ_Cas_Light_Blue_0.600_secs_015_reduced.fits\n",
      "../../BPO_Data/RZ_Cas/2023_11_30/Light/Blue/reduced_images/RZ_Cas_Light_Blue_0.600_secs_016_reduced.fits\n",
      "../../BPO_Data/RZ_Cas/2023_11_30/Light/Blue/reduced_images/RZ_Cas_Light_Blue_0.600_secs_017_reduced.fits\n",
      "../../BPO_Data/RZ_Cas/2023_11_30/Light/Blue/reduced_images/RZ_Cas_Light_Blue_0.600_secs_018_reduced.fits\n",
      "../../BPO_Data/RZ_Cas/2023_11_30/Light/Blue/reduced_images/RZ_Cas_Light_Blue_0.600_secs_019_reduced.fits\n",
      "../../BPO_Data/RZ_Cas/2023_11_30/Light/Blue/reduced_images/RZ_Cas_Light_Blue_0.600_secs_020_reduced.fits\n",
      "../../BPO_Data/RZ_Cas/2023_11_30/Light/Blue/reduced_images/RZ_Cas_Light_Blue_0.600_secs_021_reduced.fits\n",
      "../../BPO_Data/RZ_Cas/2023_11_30/Light/Blue/reduced_images/RZ_Cas_Light_Blue_0.600_secs_022_reduced.fits\n",
      "../../BPO_Data/RZ_Cas/2023_11_30/Light/Blue/reduced_images/RZ_Cas_Light_Blue_0.600_secs_023_reduced.fits\n",
      "../../BPO_Data/RZ_Cas/2023_11_30/Light/Blue/reduced_images/RZ_Cas_Light_Blue_0.600_secs_024_reduced.fits\n",
      "../../BPO_Data/RZ_Cas/2023_11_30/Light/Blue/reduced_images/RZ_Cas_Light_Blue_0.600_secs_025_reduced.fits\n",
      "../../BPO_Data/RZ_Cas/2023_11_30/Light/Blue/reduced_images/RZ_Cas_Light_Blue_0.600_secs_026_reduced.fits\n",
      "../../BPO_Data/RZ_Cas/2023_11_30/Light/Blue/reduced_images/RZ_Cas_Light_Blue_0.600_secs_027_reduced.fits\n",
      "../../BPO_Data/RZ_Cas/2023_11_30/Light/Blue/reduced_images/RZ_Cas_Light_Blue_0.600_secs_028_reduced.fits\n",
      "../../BPO_Data/RZ_Cas/2023_11_30/Light/Blue/reduced_images/RZ_Cas_Light_Blue_0.600_secs_029_reduced.fits\n",
      "../../BPO_Data/RZ_Cas/2023_11_30/Light/Blue/reduced_images/RZ_Cas_Light_Blue_0.600_secs_030_reduced.fits\n",
      "../../BPO_Data/RZ_Cas/2023_11_30/Light/Blue/reduced_images/RZ_Cas_Light_Blue_0.600_secs_031_reduced.fits\n",
      "../../BPO_Data/RZ_Cas/2023_11_30/Light/Blue/reduced_images/RZ_Cas_Light_Blue_0.600_secs_032_reduced.fits\n",
      "../../BPO_Data/RZ_Cas/2023_11_30/Light/Blue/reduced_images/RZ_Cas_Light_Blue_0.600_secs_033_reduced.fits\n",
      "../../BPO_Data/RZ_Cas/2023_11_30/Light/Blue/reduced_images/RZ_Cas_Light_Blue_0.600_secs_034_reduced.fits\n",
      "../../BPO_Data/RZ_Cas/2023_11_30/Light/Blue/reduced_images/RZ_Cas_Light_Blue_0.600_secs_035_reduced.fits\n",
      "../../BPO_Data/RZ_Cas/2023_11_30/Light/Blue/reduced_images/RZ_Cas_Light_Blue_0.600_secs_036_reduced.fits\n",
      "../../BPO_Data/RZ_Cas/2023_11_30/Light/Blue/reduced_images/RZ_Cas_Light_Blue_0.600_secs_037_reduced.fits\n",
      "../../BPO_Data/RZ_Cas/2023_11_30/Light/Blue/reduced_images/RZ_Cas_Light_Blue_0.600_secs_038_reduced.fits\n",
      "../../BPO_Data/RZ_Cas/2023_11_30/Light/Blue/reduced_images/RZ_Cas_Light_Blue_0.600_secs_039_reduced.fits\n",
      "../../BPO_Data/RZ_Cas/2023_11_30/Light/Blue/reduced_images/RZ_Cas_Light_Blue_0.600_secs_040_reduced.fits\n",
      "../../BPO_Data/RZ_Cas/2023_11_30/Light/Blue/reduced_images/RZ_Cas_Light_Blue_0.600_secs_041_reduced.fits\n",
      "../../BPO_Data/RZ_Cas/2023_11_30/Light/Blue/reduced_images/RZ_Cas_Light_Blue_0.600_secs_042_reduced.fits\n",
      "../../BPO_Data/RZ_Cas/2023_11_30/Light/Blue/reduced_images/RZ_Cas_Light_Blue_0.600_secs_043_reduced.fits\n",
      "../../BPO_Data/RZ_Cas/2023_11_30/Light/Blue/reduced_images/RZ_Cas_Light_Blue_0.600_secs_044_reduced.fits\n",
      "../../BPO_Data/RZ_Cas/2023_11_30/Light/Blue/reduced_images/RZ_Cas_Light_Blue_0.600_secs_045_reduced.fits\n",
      "../../BPO_Data/RZ_Cas/2023_11_30/Light/Blue/reduced_images/RZ_Cas_Light_Blue_0.600_secs_046_reduced.fits\n",
      "../../BPO_Data/RZ_Cas/2023_11_30/Light/Blue/reduced_images/RZ_Cas_Light_Blue_0.600_secs_047_reduced.fits\n",
      "../../BPO_Data/RZ_Cas/2023_11_30/Light/Blue/reduced_images/RZ_Cas_Light_Blue_0.600_secs_048_reduced.fits\n",
      "../../BPO_Data/RZ_Cas/2023_11_30/Light/Blue/reduced_images/RZ_Cas_Light_Blue_0.600_secs_049_reduced.fits\n",
      "../../BPO_Data/RZ_Cas/2023_11_30/Light/Blue/reduced_images/RZ_Cas_Light_Blue_0.600_secs_050_reduced.fits\n"
     ]
    }
   ],
   "source": [
    "reduced_image_list = []\n",
    "\n",
    "for file in image_list: \n",
    "    hdr_temp = fits.getheader(file)\n",
    "    reduced_image_list.append(hdr_temp[\"REDIMAGE\"])\n",
    "\n",
    "\n",
    "print(\"\\n\".join(reduced_image_list))"
   ]
  },
  {
   "cell_type": "code",
   "execution_count": 263,
   "id": "f38e0cf9",
   "metadata": {},
   "outputs": [
    {
     "name": "stdout",
     "output_type": "stream",
     "text": [
      "Folder '../../BPO_Data/RZ_Cas/2023_11_30/Light/Blue/saturated_images/' has been created.\n"
     ]
    }
   ],
   "source": [
    "create_or_empty_folder(filepath+\"saturated_images/\")"
   ]
  },
  {
   "cell_type": "code",
   "execution_count": 264,
   "id": "8eb72a03",
   "metadata": {},
   "outputs": [
    {
     "name": "stdout",
     "output_type": "stream",
     "text": [
      "50/50\n",
      "../../BPO_Data/RZ_Cas/2023_11_30/Light/Blue\\RZ_Cas_Light_Blue_0.600_secs_050.fits\n"
     ]
    }
   ],
   "source": [
    "i=0\n",
    "for file in image_list:\n",
    "    \n",
    "    clear_output(wait=True)\n",
    "    print(str(i+1) + \"/\" + str(len(image_list)))\n",
    "    print(file)\n",
    "    \n",
    "    # Get the reduced image header\n",
    "    hdul = fits.open(reduced_image_list[i])\n",
    "    image_hdr = hdul[0].header\n",
    "    \n",
    "    if image_hdr[\"XBINNING\"] == 2:\n",
    "        binned = 1\n",
    "    \n",
    "    raw_image = fits.getdata(file, 0)\n",
    "    \n",
    "    \n",
    "    #### Saturated?\n",
    "    threshold = 0.9 * 2**16\n",
    "    above_threshold = raw_image < threshold\n",
    "\n",
    "\n",
    "    \n",
    "    if binned == 1:\n",
    "        above_threshold = block_reduce(above_threshold, block_size=(2, 2), func=np.prod)\n",
    "  \n",
    "\n",
    "    hdul[0] = fits.PrimaryHDU(above_threshold,image_hdr)\n",
    "    \n",
    "    # Save the modified FITS file\n",
    "    \n",
    "    file_name = os.path.basename(file)\n",
    "    new_file_name = filepath + \"saturated_images/\" + file_name.replace('.fits', '_saturated.fits')\n",
    "        \n",
    "    hdul.writeto(new_file_name, overwrite=True)\n",
    "    hdul.close()\n",
    "    \n",
    "    # Store the file name in the orignal fits file\n",
    "    update_fits_header(file, 'SatImage', new_file_name, comment=\"See Data_Reduction_v8t\")\n",
    "    \n",
    "    i=i+1\n",
    "    \n",
    "    \n",
    "    time.sleep(0.1) \n",
    "    \n",
    "    #time.sleep(1) #pause in secs. Make bigger if you need.    "
   ]
  },
  {
   "cell_type": "code",
   "execution_count": null,
   "id": "43f3f9c2",
   "metadata": {},
   "outputs": [],
   "source": []
  },
  {
   "cell_type": "code",
   "execution_count": null,
   "id": "b2840307",
   "metadata": {},
   "outputs": [],
   "source": []
  }
 ],
 "metadata": {
  "kernelspec": {
   "display_name": "Python 3 (ipykernel)",
   "language": "python",
   "name": "python3"
  },
  "language_info": {
   "codemirror_mode": {
    "name": "ipython",
    "version": 3
   },
   "file_extension": ".py",
   "mimetype": "text/x-python",
   "name": "python",
   "nbconvert_exporter": "python",
   "pygments_lexer": "ipython3",
   "version": "3.9.13"
  }
 },
 "nbformat": 4,
 "nbformat_minor": 5
}

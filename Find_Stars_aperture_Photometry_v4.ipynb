{
 "cells": [
  {
   "cell_type": "markdown",
   "id": "6d8ec050",
   "metadata": {},
   "source": [
    "# Version 2\n",
    "\n",
    "This will call version 2 of the main \"Find_stars_photometery\" function and not pass if it is binned as that is now dealt with with the vervion 5 of the datareduction through the XBINNED and YBINNED header entires.\n",
    "\n",
    "- New file handling cells which will assume a certain file structure.\n",
    "\n",
    "# Version 3\n",
    "\n",
    "Using v3 of my function which uses the new saturated image to see if a photometry sum is saturated or not.\n",
    "\n",
    "# Vervion 4\n",
    "\n",
    "- Update header of originla file with location of new csv\n",
    "- Save the csv to a subfolder."
   ]
  },
  {
   "cell_type": "code",
   "execution_count": 1,
   "id": "17c021de",
   "metadata": {},
   "outputs": [
    {
     "name": "stderr",
     "output_type": "stream",
     "text": [
      "WARNING: Astrometry.net API key not found in configuration file [astroquery.astrometry_net.core]\n",
      "WARNING: You need to manually edit the configuration file and add it [astroquery.astrometry_net.core]\n",
      "WARNING: You may also register it for this session with AstrometryNet.key = 'XXXXXXXX' [astroquery.astrometry_net.core]\n"
     ]
    }
   ],
   "source": [
    "import numpy as np\n",
    "\n",
    "import matplotlib\n",
    "matplotlib.use('TkAgg')\n",
    "\n",
    "# Set up matplotlib\n",
    "import matplotlib.pyplot as plt\n",
    "%matplotlib inline\n",
    "\n",
    "from scipy.optimize import curve_fit\n",
    "\n",
    "from scipy import optimize\n",
    "from astropy.time import Time\n",
    "\n",
    "#from astropy.visualization import time_support\n",
    "#from astropy.timeseries import TimeSeries\n",
    "\n",
    "%matplotlib notebook \n",
    "import matplotlib.image as mpimg\n",
    "\n",
    "import pandas as pd\n",
    "\n",
    "from astropy.io import fits\n",
    "from astropy.utils.data import download_file\n",
    "\n",
    "import os\n",
    "import glob\n",
    "import time\n",
    "from matplotlib.colors import LogNorm\n",
    "from IPython import display\n",
    "from IPython.display import clear_output\n",
    "\n",
    "import random\n",
    "\n",
    "%matplotlib inline\n",
    "plt.rcParams.update({'font.size':15})\n",
    "\n",
    "from astropy.stats import sigma_clipped_stats\n",
    "from photutils.detection import DAOStarFinder\n",
    "from photutils.aperture import CircularAperture\n",
    "from astropy.visualization import SqrtStretch\n",
    "from astropy.visualization.mpl_normalize import ImageNormalize\n",
    "\n",
    "from astropy import units as u\n",
    "from photutils.aperture import CircularAperture, CircularAnnulus\n",
    "from photutils.aperture import aperture_photometry\n",
    "from photutils.aperture import ApertureStats\n",
    "\n",
    "from astropy.wcs import WCS\n",
    "\n",
    "# conda install -c astropy astroquery\n",
    "\n",
    "from astroquery.astrometry_net import AstrometryNet\n",
    "\n",
    "from astroquery.simbad import Simbad\n",
    "\n",
    "import astropy.units as u\n",
    "from astropy import coordinates\n",
    "\n",
    "import pyvo as vo\n",
    "\n",
    "import os\n",
    "\n",
    "import warnings\n",
    "warnings.filterwarnings('ignore')\n",
    "\n",
    "#from My_Functions import Find_stars_photometery\n",
    "from My_Functions_v3 import Find_stars_photometery_v4\n",
    "from My_Functions_v3 import create_or_empty_folder\n",
    "from My_Functions_v3 import update_fits_header"
   ]
  },
  {
   "cell_type": "code",
   "execution_count": null,
   "id": "cf649f95",
   "metadata": {},
   "outputs": [],
   "source": [
    "main_star    = \"V* RV UMa\"\n",
    "file_object  = \"RV_Uma\"\n",
    "file_nights  = [\"2022_03_20\",\"2022_03_22\",\"2022_03_24\",\"2023_02_23\",\"2023_04_03\"]"
   ]
  },
  {
   "cell_type": "code",
   "execution_count": 2,
   "id": "a39add78",
   "metadata": {},
   "outputs": [],
   "source": [
    "main_star    = \"V* RZ Cep\"\n",
    "file_object  = \"RZ_Cep\"\n",
    "#file_nights  = [\"2024_01_07\",\"2022_12_07\",\"2023_01_23\",\"2023_02_23\",\"2023_11_10\"]\n",
    "#file_nights = [\"2023_01_23\",\"2023_02_23\",\"2023_11_10\"]\n",
    "\n",
    "#file_nights = [\"2023_11_10\"]\n",
    "#file_nights = [\"2024_01_18\"]\n",
    "\n",
    "file_nights  = [\"2022_12_07\", \"2023_01_23\", \"2023_02_23\", \"2023_11_10\", \"2024_01_07\",\"2024_01_18\"]"
   ]
  },
  {
   "cell_type": "code",
   "execution_count": 2,
   "id": "1e9dcfb7",
   "metadata": {},
   "outputs": [],
   "source": [
    "main_star    = \"V* RZ Cas\"\n",
    "file_object  = \"RZ_Cas\"\n",
    "file_nights  = [\"2023_03_02\",\"2023_04_06\",\"2023_10_14\",\"2023_11_30\"]\n",
    "#file_nights  = [\"2023_03_02\",\"2023_04_06\"]\n",
    "#file_nights  = [\"2023_10_14\"]\n",
    "\n",
    "\n"
   ]
  },
  {
   "cell_type": "code",
   "execution_count": 6,
   "id": "5c52d235",
   "metadata": {},
   "outputs": [],
   "source": [
    "main_star    = \"tyc_3023-1974-1\"\n",
    "file_object  = \"tyc_3023-1974-1\"\n",
    "\n",
    "file_nights  = [\"2023_04_02\",\"2023_04_03\"]#,\"2023_04_19\"]\n",
    "file_nights  = [\"2023_04_02\"]"
   ]
  },
  {
   "cell_type": "code",
   "execution_count": 3,
   "id": "586d4c51",
   "metadata": {},
   "outputs": [],
   "source": [
    "colour_list = [\"Luminance\",\"Red\",\"Green\",\"Blue\"]\n",
    "#colour_list = [\"Blue\"]"
   ]
  },
  {
   "cell_type": "code",
   "execution_count": 4,
   "id": "89bf78e2",
   "metadata": {},
   "outputs": [
    {
     "name": "stdout",
     "output_type": "stream",
     "text": [
      "Folder '../../BPO_Data/RZ_Cas/2023_03_02/Light/Luminance/photometry/' has been created.\n",
      "Folder '../../BPO_Data/RZ_Cas/2023_03_02/Light/Red/photometry/' has been created.\n",
      "Folder '../../BPO_Data/RZ_Cas/2023_03_02/Light/Green/photometry/' has been created.\n",
      "Folder '../../BPO_Data/RZ_Cas/2023_03_02/Light/Blue/photometry/' has been created.\n",
      "Folder '../../BPO_Data/RZ_Cas/2023_04_06/Light/Luminance/photometry/' has been created.\n",
      "Folder '../../BPO_Data/RZ_Cas/2023_04_06/Light/Red/photometry/' has been created.\n",
      "Folder '../../BPO_Data/RZ_Cas/2023_04_06/Light/Green/photometry/' has been created.\n",
      "Folder '../../BPO_Data/RZ_Cas/2023_04_06/Light/Blue/photometry/' has been created.\n",
      "Folder '../../BPO_Data/RZ_Cas/2023_10_14/Light/Luminance/photometry/' has been created.\n",
      "Folder '../../BPO_Data/RZ_Cas/2023_10_14/Light/Red/photometry/' has been created.\n",
      "Folder '../../BPO_Data/RZ_Cas/2023_10_14/Light/Green/photometry/' has been created.\n",
      "Folder '../../BPO_Data/RZ_Cas/2023_10_14/Light/Blue/photometry/' has been created.\n",
      "Folder '../../BPO_Data/RZ_Cas/2023_11_30/Light/Luminance/photometry/' has been created.\n",
      "Folder '../../BPO_Data/RZ_Cas/2023_11_30/Light/Red/photometry/' has been created.\n",
      "Folder '../../BPO_Data/RZ_Cas/2023_11_30/Light/Green/photometry/' has been created.\n",
      "Folder '../../BPO_Data/RZ_Cas/2023_11_30/Light/Blue/photometry/' has been created.\n",
      "total number of files = 763\n"
     ]
    }
   ],
   "source": [
    "total_files = 0\n",
    "for file_night in file_nights:\n",
    "    for colour in colour_list:\n",
    "        \n",
    "        filepath = \"../../BPO_Data/\"+file_object+\"/\"+file_night+\"/Light/\"+colour+\"/\"\n",
    "        create_or_empty_folder(filepath+\"photometry/\")\n",
    "        \n",
    "        files = glob.glob(filepath+\"*.fits*\")\n",
    "\n",
    "        total_files = total_files + len(files)\n",
    "print('total number of files = '+str(total_files))"
   ]
  },
  {
   "cell_type": "code",
   "execution_count": 5,
   "id": "09ce1230",
   "metadata": {},
   "outputs": [
    {
     "name": "stdout",
     "output_type": "stream",
     "text": [
      "../../BPO_Data/RZ_Cas/2023_11_30/Light/Blue\\RZ_Cas_Light_Blue_0.600_secs_050.fits\n",
      "763 of 763\n",
      "Done 1st draft find, found 5 stars\n",
      "Done 1st draft photometry\n",
      "Old FWHM = 6.12 pixs\n",
      "Old FWHM = 6.00 arcsec\n",
      "New FWHM = 4.70 pixs\n",
      "New FWHM = 4.60 arcsec\n",
      "Done 2nd round find, found 32 stars\n",
      "Number of saturated stars =  0\n",
      "Done 2nd round photometry\n",
      "../../BPO_Data/RZ_Cas/2023_11_30/Light/Blue/photometry/RZ_Cas_Light_Blue_0.600_secs_050_photometry.csv\n"
     ]
    }
   ],
   "source": [
    "i=1\n",
    "for file_night in file_nights:\n",
    "    for colour in colour_list:\n",
    "\n",
    "        filepath = \"../../BPO_Data/\"+file_object+\"/\"+file_night+\"/Light/\"+colour+\"/\"\n",
    "\n",
    "        files = glob.glob(filepath+\"*.fits*\")\n",
    "       # print(print(\"\\n\".join(files)))\n",
    "    \n",
    "        for file in files:\n",
    "\n",
    "            clear_output(wait=True)\n",
    "            print(file)\n",
    "            print(str(i)+\" of \" +str(total_files))\n",
    "            \n",
    "            hdr_temp = fits.getheader(file)\n",
    "            \n",
    "            file_name = os.path.basename(file)\n",
    "            csv_filename = filepath + \"photometry/\" + file_name.replace('.fits', '_photometry.csv')\n",
    "            update_fits_header(file, 'PHOTFILE', csv_filename, comment=\"The reduced image photometry\")\n",
    "            \n",
    "            df_photometry = Find_stars_photometery_v4(hdr_temp[\"REDIMAGE\"],200, 1.5,hdr_temp[\"SATIMAGE\"],csv_filename)\n",
    "            i = i + 1\n",
    "            \n",
    "            \n",
    "            time.sleep(1.5)"
   ]
  },
  {
   "cell_type": "code",
   "execution_count": null,
   "id": "d4d5cbe8",
   "metadata": {},
   "outputs": [],
   "source": []
  }
 ],
 "metadata": {
  "kernelspec": {
   "display_name": "Python 3 (ipykernel)",
   "language": "python",
   "name": "python3"
  },
  "language_info": {
   "codemirror_mode": {
    "name": "ipython",
    "version": 3
   },
   "file_extension": ".py",
   "mimetype": "text/x-python",
   "name": "python",
   "nbconvert_exporter": "python",
   "pygments_lexer": "ipython3",
   "version": "3.9.13"
  }
 },
 "nbformat": 4,
 "nbformat_minor": 5
}
